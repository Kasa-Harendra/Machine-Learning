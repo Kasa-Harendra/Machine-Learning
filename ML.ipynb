{
 "cells": [
  {
   "cell_type": "markdown",
   "metadata": {},
   "source": [
    "# Handling Missing values"
   ]
  },
  {
   "cell_type": "markdown",
   "metadata": {},
   "source": [
    "### Filling missing values manually"
   ]
  },
  {
   "cell_type": "code",
   "execution_count": 1,
   "metadata": {},
   "outputs": [],
   "source": [
    "def fill_num_values(dataset, mode=\"mean\"):\n",
    "    import pandas as pd\n",
    "    num_cols = list(dataset.select_dtypes(include=\"float64\")) + list(dataset.select_dtypes(include=\"int64\")) \n",
    "    for col in num_cols:\n",
    "        if dataset[col].isnull().sum() > 0:\n",
    "            if mode==\"mean\":\n",
    "                dataset[col].fillna(dataset[col].mean(), inplace = True)\n",
    "            elif mode==\"median\":\n",
    "                dataset[col].fillna(dataset[col].median(), inplace = True)\n",
    "            else:\n",
    "                dataset[col].fillna(dataset[col].mode()[0], inplace = True)\n",
    "    return dataset"
   ]
  },
  {
   "cell_type": "code",
   "execution_count": 2,
   "metadata": {},
   "outputs": [],
   "source": [
    "def fill_col(dataset, col, mode=\"mean\"):\n",
    "    if dataset[col].isnull().sum() > 0:\n",
    "        if mode==\"mean\":\n",
    "            dataset[col].fillna(dataset[col].mean(), inplace = True)\n",
    "        elif mode==\"median\":\n",
    "            dataset[col].fillna(dataset[col].median(), inplace = True)\n",
    "        else:\n",
    "            dataset[col].fillna(dataset[col].mode()[0], inplace = True)\n",
    "    return dataset"
   ]
  },
  {
   "cell_type": "code",
   "execution_count": 3,
   "metadata": {},
   "outputs": [],
   "source": [
    "def fill_obj_values(dataset):\n",
    "    import pandas as pd\n",
    "    obj_cols = dataset.select_dtypes(\"object\")\n",
    "    for col in obj_cols:\n",
    "        if dataset[col].isnull().sum() > 0:\n",
    "            dataset[col].fillna(dataset[col].mode()[0], inplace=True)\n",
    "    return dataset"
   ]
  },
  {
   "cell_type": "markdown",
   "metadata": {},
   "source": [
    "### Filling missing values using sklearn"
   ]
  },
  {
   "cell_type": "code",
   "execution_count": 4,
   "metadata": {},
   "outputs": [],
   "source": [
    "def fill_sklearn(dataset, strategy=\"mean\"):\n",
    "    from sklearn.impute import SimpleImputer\n",
    "    import pandas as pd\n",
    "    #num_cols\n",
    "    num_cols = list(dataset.select_dtypes(include=\"float64\")) + list(dataset.select_dtypes(include=\"int64\"))\n",
    "    imputer = SimpleImputer(strategy = strategy)\n",
    "    updated = pd.DataFrame(imputer.fit_transform(dataset[num_cols]), columns=num_cols)\n",
    "    dataset.update(updated)\n",
    "    #obj_cols\n",
    "    obj_cols = list(dataset.select_dtypes(include=\"object\"))\n",
    "    imputer = SimpleImputer(strategy=\"most_frequent\")\n",
    "    updated = pd.DataFrame(imputer.fit_transform(dataset[obj_cols]), columns=obj_cols)\n",
    "    dataset.update(updated)\n",
    "\n",
    "    return dataset"
   ]
  },
  {
   "cell_type": "markdown",
   "metadata": {},
   "source": [
    "# Encoding"
   ]
  },
  {
   "cell_type": "markdown",
   "metadata": {},
   "source": [
    "### OneHotEncoding"
   ]
  },
  {
   "cell_type": "code",
   "execution_count": 5,
   "metadata": {},
   "outputs": [],
   "source": [
    "def one_hot_encode(dataset, col: str):\n",
    "    from sklearn.preprocessing import OneHotEncoder\n",
    "    import pandas as pd\n",
    "    ohe = OneHotEncoder(drop=\"first\")\n",
    "    dataset[col+\"_ohe\"] = ohe.fit_transform(dataset[[col]]).toarray()\n",
    "\n",
    "    return dataset\n"
   ]
  },
  {
   "cell_type": "markdown",
   "metadata": {},
   "source": [
    "### LabelEncoding"
   ]
  },
  {
   "cell_type": "code",
   "execution_count": 6,
   "metadata": {},
   "outputs": [],
   "source": [
    "def label_encode(dataset, col: str):\n",
    "    from sklearn.preprocessing import LabelEncoder\n",
    "    import pandas as pd\n",
    "    le = LabelEncoder()\n",
    "    le.fit(dataset[col])\n",
    "    dataset[col+\"_le\"] = pd.DataFrame(le.transform(dataset[[col]]))\n",
    "    \n",
    "    return dataset\n"
   ]
  },
  {
   "cell_type": "markdown",
   "metadata": {},
   "source": [
    "### OrdinalEncoding"
   ]
  },
  {
   "cell_type": "code",
   "execution_count": 7,
   "metadata": {},
   "outputs": [],
   "source": [
    "def ordinal_encode(dataset, col: str, ord_data: list):\n",
    "    from sklearn.preprocessing import OrdinalEncoder\n",
    "    import pandas as pd\n",
    "    oe = OrdinalEncoder(categories=[ord_data])\n",
    "    oe.fit(dataset[[col]])\n",
    "    dataset[col+\"_oe\"] = pd.DataFrame(oe.transform(dataset[[col]]))\n",
    "\n",
    "    return dataset"
   ]
  },
  {
   "cell_type": "markdown",
   "metadata": {},
   "source": [
    "### Mapping"
   ]
  },
  {
   "cell_type": "code",
   "execution_count": 8,
   "metadata": {},
   "outputs": [],
   "source": [
    "def map_encode(dataset, col: str, ord_data:dict):\n",
    "    import pandas as pd\n",
    "    dataset[col+\"_map\"] = dataset[col].map(ord_data)\n",
    "\n",
    "    return dataset"
   ]
  },
  {
   "cell_type": "markdown",
   "metadata": {},
   "source": [
    "# Graph"
   ]
  },
  {
   "cell_type": "code",
   "execution_count": 56,
   "metadata": {},
   "outputs": [],
   "source": [
    "def plot_graph(initial, final, col, mode=\"box\"):\n",
    "    import warnings\n",
    "    warnings.filterwarnings('ignore')  \n",
    "    import matplotlib.pyplot as plt\n",
    "    import seaborn as sns\n",
    "    plt.figure(figsize=(15, 5))\n",
    "\n",
    "    plt.subplot(1, 2, 1)\n",
    "    plt.title(\"Before\")\n",
    "    if mode == \"box\":\n",
    "        sns.boxplot(x=col, data= initial)\n",
    "    else:\n",
    "        #sns.histplot(x=col, data=initial, kde=True, element='step')\n",
    "        sns.distplot(initial[col])\n",
    "        sns.despine()\n",
    "\n",
    "    plt.subplot(1, 2, 2)\n",
    "    plt.title(\"After\")\n",
    "    if mode == \"box\":\n",
    "        sns.boxplot(x=col, data= final)\n",
    "    else:\n",
    "        #sns.histplot(x=col, data=final, kde=True, element='step')\n",
    "        sns.distplot(final[col])\n",
    "        sns.despine()\n",
    "\n",
    "\n",
    "    plt.show()"
   ]
  },
  {
   "cell_type": "markdown",
   "metadata": {},
   "source": [
    "# Outlier Elimination"
   ]
  },
  {
   "cell_type": "markdown",
   "metadata": {},
   "source": [
    "### IQR"
   ]
  },
  {
   "cell_type": "code",
   "execution_count": 10,
   "metadata": {},
   "outputs": [],
   "source": [
    "def outlier_iqr(dataset, col, mode):\n",
    "    import pandas as pd\n",
    "    q1 = dataset[col].quantile(0.25)\n",
    "    q3 = dataset[col].quantile(0.75)\n",
    "    IQR = q3-q1\n",
    "    min_range = q1 - 1.5*IQR\n",
    "    max_range = q3 + 1.5*IQR\n",
    "    print(f'Min: {min_range}, Max: {max_range}')\n",
    "    initial = dataset\n",
    "    dataset = dataset[(dataset[col]>=min_range) & (dataset[col]<=max_range)]\n",
    "    plot_graph(initial, dataset, col, mode)\n",
    "\n",
    "    return dataset"
   ]
  },
  {
   "cell_type": "markdown",
   "metadata": {},
   "source": [
    "### Z-score\n",
    "\n"
   ]
  },
  {
   "cell_type": "code",
   "execution_count": 11,
   "metadata": {},
   "outputs": [],
   "source": [
    "def outlier_zscore(dataset, col, mode):\n",
    "    MEAN = dataset[col].mean()\n",
    "    SD = dataset[col].std()\n",
    "    dataset[\"z_score\"] = (dataset[col]-MEAN)/SD\n",
    "    initial = dataset[[col]]\n",
    "    dataset = dataset[(dataset[\"z_score\"]>-3) & (dataset[\"z_score\"]<3)]\n",
    "    plot_graph(initial, dataset, col, mode)\n",
    "\n",
    "    return dataset"
   ]
  },
  {
   "cell_type": "markdown",
   "metadata": {},
   "source": [
    "### (MIN and MAX) Normal-Distrubution"
   ]
  },
  {
   "cell_type": "code",
   "execution_count": 12,
   "metadata": {},
   "outputs": [],
   "source": [
    "def outlier_normal(dataset, col, mode):\n",
    "    MEAN = dataset[col].mean()\n",
    "    SD = dataset[col].std()\n",
    "    min_range = MEAN - (3*SD)\n",
    "    max_range = MEAN + (3*SD)\n",
    "    print(f'Min: {min_range}, Max: {max_range}')\n",
    "    initial = dataset[[col]]\n",
    "    dataset = dataset[(dataset[col] >= min_range) & (dataset[col] <= max_range)]\n",
    "    plot_graph(initial, dataset, col, mode)\n",
    "\n",
    "    return dataset"
   ]
  },
  {
   "cell_type": "markdown",
   "metadata": {},
   "source": [
    "# Feature Scaling"
   ]
  },
  {
   "cell_type": "markdown",
   "metadata": {},
   "source": [
    "### Standardization"
   ]
  },
  {
   "cell_type": "code",
   "execution_count": 13,
   "metadata": {},
   "outputs": [],
   "source": [
    "def standradize(dataset, col, mode, inplace=True):\n",
    "    from sklearn.preprocessing import StandardScaler\n",
    "    import pandas as pd\n",
    "    ss = StandardScaler()\n",
    "    ss.fit(dataset[[col]])\n",
    "    if inplace==True:\n",
    "        initial = dataset[[col]]\n",
    "        dataset[col] = ss.transform(dataset[[col]])\n",
    "        plot_graph(initial, dataset, col, mode)\n",
    "    else:\n",
    "        dataset[col+\"_ss\"] = ss.transform(dataset[[col]], inplace=True)\n",
    "        print(f\"New column added :'{col}+_ss'\")\n",
    "    return dataset"
   ]
  },
  {
   "cell_type": "markdown",
   "metadata": {},
   "source": [
    "### Normalization (MinMaxScaling)"
   ]
  },
  {
   "cell_type": "code",
   "execution_count": 14,
   "metadata": {},
   "outputs": [],
   "source": [
    "def min_max_scale(dataset, col, mode, inplace=True):\n",
    "    from sklearn.preprocessing import MinMaxScaler\n",
    "    mms = MinMaxScaler()\n",
    "    mms.fit(dataset[[col]])\n",
    "    if inplace==True:\n",
    "        initial = dataset[[col]]\n",
    "        dataset[col] = mms.transform(dataset[[col]])\n",
    "        plot_graph(initial, dataset, col, mode)\n",
    "    else:\n",
    "        dataset[col+'_mms'] = mms.transform(dataset[[col]], inplace=True)\n",
    "        print(f\"New column added: '{col}+_mms\")\n",
    "    return dataset"
   ]
  },
  {
   "cell_type": "markdown",
   "metadata": {},
   "source": [
    "# Remove Duplicates"
   ]
  },
  {
   "cell_type": "code",
   "execution_count": 15,
   "metadata": {},
   "outputs": [],
   "source": [
    "def remove_duplicates(dataset):\n",
    "    initial = dataset\n",
    "    dataset.drop_duplicates()\n",
    "    count = ((initial.shape[0]-dataset.shape[0])/initial.shape[0])*100\n",
    "    if count > 10:\n",
    "        print(\"Dataset isn't good enough\")\n",
    "    else:\n",
    "        return dataset"
   ]
  },
  {
   "cell_type": "markdown",
   "metadata": {},
   "source": [
    "# Function Transformation"
   ]
  },
  {
   "cell_type": "code",
   "execution_count": 57,
   "metadata": {},
   "outputs": [],
   "source": [
    "def function_transform(dataset, col, funct, inplace=True):\n",
    "    from sklearn.preprocessing import FunctionTransformer\n",
    "    import pandas as pd\n",
    "    import numpy as np\n",
    "    ft = FunctionTransformer(func=np.log1p)\n",
    "    initial = dataset[[col]]\n",
    "    ft.fit(dataset[[col]])\n",
    "    if inplace==True:\n",
    "        dataset[col] = pd.DataFrame(ft.transform(dataset[[col]]))\n",
    "        plot_graph(initial, dataset, col, \"dist\")\n",
    "    else:\n",
    "        dataset[col+\"_transformed\"] = ft.transform(dataset[[col]], inplace=True)\n",
    "        print(f\"New column added: '{col}+_transformed'\")\n",
    "    return dataset"
   ]
  },
  {
   "cell_type": "markdown",
   "metadata": {},
   "source": [
    "# Feature Selection"
   ]
  },
  {
   "cell_type": "code",
   "execution_count": 2,
   "metadata": {},
   "outputs": [],
   "source": [
    "def feature_selection(model, x, y, k_limit:int, forward=True):\n",
    "    import warnings\n",
    "    from mlxtend.feature_selection import SequentialFeatureSelector\n",
    "    warnings.filterwarnings('ignore')\n",
    "    features = {}\n",
    "    for limit in range(k_limit, 1, -1):\n",
    "        fs = SequentialFeatureSelector(estimator=model,k_features=limit, forward=forward)\n",
    "        fs.fit(x, y)\n",
    "        features[fs.k_feature_names_] = float(fs.k_score_)\n",
    "    max_score = max(features.values())\n",
    "    features_selected = {}\n",
    "    for selection in features.keys():\n",
    "        if features[selection] == max_score:\n",
    "            features_selected[selection] = max_score\n",
    "    return features_selected"
   ]
  },
  {
   "cell_type": "markdown",
   "metadata": {},
   "source": [
    "# Test"
   ]
  },
  {
   "cell_type": "code",
   "execution_count": 63,
   "metadata": {},
   "outputs": [
    {
     "data": {
      "text/html": [
       "<div>\n",
       "<style scoped>\n",
       "    .dataframe tbody tr th:only-of-type {\n",
       "        vertical-align: middle;\n",
       "    }\n",
       "\n",
       "    .dataframe tbody tr th {\n",
       "        vertical-align: top;\n",
       "    }\n",
       "\n",
       "    .dataframe thead th {\n",
       "        text-align: right;\n",
       "    }\n",
       "</style>\n",
       "<table border=\"1\" class=\"dataframe\">\n",
       "  <thead>\n",
       "    <tr style=\"text-align: right;\">\n",
       "      <th></th>\n",
       "      <th>Loan_ID</th>\n",
       "      <th>Gender</th>\n",
       "      <th>Married</th>\n",
       "      <th>Dependents</th>\n",
       "      <th>Education</th>\n",
       "      <th>Self_Employed</th>\n",
       "      <th>ApplicantIncome</th>\n",
       "      <th>CoapplicantIncome</th>\n",
       "      <th>LoanAmount</th>\n",
       "      <th>Loan_Amount_Term</th>\n",
       "      <th>Credit_History</th>\n",
       "      <th>Property_Area</th>\n",
       "      <th>Loan_Status</th>\n",
       "    </tr>\n",
       "  </thead>\n",
       "  <tbody>\n",
       "    <tr>\n",
       "      <th>0</th>\n",
       "      <td>LP001002</td>\n",
       "      <td>Male</td>\n",
       "      <td>No</td>\n",
       "      <td>0</td>\n",
       "      <td>Graduate</td>\n",
       "      <td>No</td>\n",
       "      <td>5849</td>\n",
       "      <td>0.0</td>\n",
       "      <td>NaN</td>\n",
       "      <td>360.0</td>\n",
       "      <td>1.0</td>\n",
       "      <td>Urban</td>\n",
       "      <td>Y</td>\n",
       "    </tr>\n",
       "    <tr>\n",
       "      <th>1</th>\n",
       "      <td>LP001003</td>\n",
       "      <td>Male</td>\n",
       "      <td>Yes</td>\n",
       "      <td>1</td>\n",
       "      <td>Graduate</td>\n",
       "      <td>No</td>\n",
       "      <td>4583</td>\n",
       "      <td>1508.0</td>\n",
       "      <td>128.0</td>\n",
       "      <td>360.0</td>\n",
       "      <td>1.0</td>\n",
       "      <td>Rural</td>\n",
       "      <td>N</td>\n",
       "    </tr>\n",
       "    <tr>\n",
       "      <th>2</th>\n",
       "      <td>LP001005</td>\n",
       "      <td>Male</td>\n",
       "      <td>Yes</td>\n",
       "      <td>0</td>\n",
       "      <td>Graduate</td>\n",
       "      <td>Yes</td>\n",
       "      <td>3000</td>\n",
       "      <td>0.0</td>\n",
       "      <td>66.0</td>\n",
       "      <td>360.0</td>\n",
       "      <td>1.0</td>\n",
       "      <td>Urban</td>\n",
       "      <td>Y</td>\n",
       "    </tr>\n",
       "  </tbody>\n",
       "</table>\n",
       "</div>"
      ],
      "text/plain": [
       "    Loan_ID Gender Married Dependents Education Self_Employed  \\\n",
       "0  LP001002   Male      No          0  Graduate            No   \n",
       "1  LP001003   Male     Yes          1  Graduate            No   \n",
       "2  LP001005   Male     Yes          0  Graduate           Yes   \n",
       "\n",
       "   ApplicantIncome  CoapplicantIncome  LoanAmount  Loan_Amount_Term  \\\n",
       "0             5849                0.0         NaN             360.0   \n",
       "1             4583             1508.0       128.0             360.0   \n",
       "2             3000                0.0        66.0             360.0   \n",
       "\n",
       "   Credit_History Property_Area Loan_Status  \n",
       "0             1.0         Urban           Y  \n",
       "1             1.0         Rural           N  \n",
       "2             1.0         Urban           Y  "
      ]
     },
     "execution_count": 63,
     "metadata": {},
     "output_type": "execute_result"
    }
   ],
   "source": [
    "import pandas as pd\n",
    "dataset = pd.read_csv(\"loan-train.csv\")\n",
    "dataset.head(3)"
   ]
  },
  {
   "cell_type": "code",
   "execution_count": 64,
   "metadata": {},
   "outputs": [],
   "source": [
    "#dataset.isnull().sum()"
   ]
  },
  {
   "cell_type": "code",
   "execution_count": 65,
   "metadata": {},
   "outputs": [],
   "source": [
    "dataset = fill_sklearn(dataset, strategy=\"mean\")"
   ]
  },
  {
   "cell_type": "code",
   "execution_count": 66,
   "metadata": {},
   "outputs": [
    {
     "data": {
      "text/plain": [
       "(614, 13)"
      ]
     },
     "execution_count": 66,
     "metadata": {},
     "output_type": "execute_result"
    }
   ],
   "source": [
    "dataset.shape"
   ]
  },
  {
   "cell_type": "code",
   "execution_count": 67,
   "metadata": {},
   "outputs": [
    {
     "name": "stdout",
     "output_type": "stream",
     "text": [
      "Min: -7157.4993096454655, Max: 10399.990905699668\n"
     ]
    },
    {
     "data": {
      "image/png": "[encoded data removed]",
      "text/plain": [
       "<Figure size 1500x500 with 2 Axes>"
      ]
     },
     "metadata": {},
     "output_type": "display_data"
    },
    {
     "data": {
      "image/png": "[encoded data removed]",
      "text/plain": [
       "<Figure size 1500x500 with 2 Axes>"
      ]
     },
     "metadata": {},
     "output_type": "display_data"
    }
   ],
   "source": [
    "dataset = outlier_normal(dataset, \"CoapplicantIncome\", \"dist\")\n",
    "import numpy as np\n",
    "dataset = function_transform(dataset, \"CoapplicantIncome\", np.log1p)"
   ]
  },
  {
   "cell_type": "code",
   "execution_count": 21,
   "metadata": {},
   "outputs": [
    {
     "data": {
      "text/plain": [
       "(614, 13)"
      ]
     },
     "execution_count": 21,
     "metadata": {},
     "output_type": "execute_result"
    }
   ],
   "source": [
    "dataset.shape"
   ]
  },
  {
   "cell_type": "code",
   "execution_count": null,
   "metadata": {},
   "outputs": [],
   "source": []
  }
 ],
 "metadata": {
  "kernelspec": {
   "display_name": "Python 3",
   "language": "python",
   "name": "python3"
  },
  "language_info": {
   "codemirror_mode": {
    "name": "ipython",
    "version": 3
   },
   "file_extension": ".py",
   "mimetype": "text/x-python",
   "name": "python",
   "nbconvert_exporter": "python",
   "pygments_lexer": "ipython3",
   "version": "3.11.9"
  }
 },
 "nbformat": 4,
 "nbformat_minor": 2
}
