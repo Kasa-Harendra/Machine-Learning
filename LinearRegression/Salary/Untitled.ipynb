{
 "cells": [
  {
   "cell_type": "code",
   "execution_count": 2,
   "id": "77a6b195-3348-4f30-a69d-3f7ed42f2170",
   "metadata": {},
   "outputs": [],
   "source": [
    "def linear_regression(x, y, test_size=0.2, rand_state = 50):\n",
    "    from sklearn.linear_model import LinearRegression\n",
    "    from sklear.model_selection import train_test_split\n",
    "    lr = LinearRegression()\n",
    "    score=0\n",
    "    for state in range(rand_state_50, rand_state+50+1):\n",
    "        x_train, x_test, y_train, y_test = train_test_split(x, y, test_size=test_size, rand_state= state)\n",
    "        lr.fit_transform(x_train, y_train)\n",
    "        selected_state = None\n",
    "        if lr.score(x_test, y_test) > score:\n",
    "            score = lr.score(x_test, y_test)\n",
    "            state = selected_state\n",
    "        x_train, x_test, y_train, y_test = train_test_split(x, y, test_size=test_size, rand_state= selected_state)\n",
    "        lr.fit_transform(x_train, y_train)\n",
    "        print(f'Model score: {score}')\n",
    "        return lr, x_test, y_test"
   ]
  },
  {
   "cell_type": "code",
   "execution_count": null,
   "id": "2ba240b8-5eef-42b9-8c7c-3a8bc3d0b343",
   "metadata": {},
   "outputs": [],
   "source": []
  }
 ],
 "metadata": {
  "kernelspec": {
   "display_name": "Python 3 (ipykernel)",
   "language": "python",
   "name": "python3"
  },
  "language_info": {
   "codemirror_mode": {
    "name": "ipython",
    "version": 3
   },
   "file_extension": ".py",
   "mimetype": "text/x-python",
   "name": "python",
   "nbconvert_exporter": "python",
   "pygments_lexer": "ipython3",
   "version": "3.11.9"
  }
 },
 "nbformat": 4,
 "nbformat_minor": 5
}
