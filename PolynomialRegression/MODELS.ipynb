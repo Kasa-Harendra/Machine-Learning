{
 "cells": [
  {
   "cell_type": "markdown",
   "metadata": {},
   "source": [
    "# Regression Analysis"
   ]
  },
  {
   "cell_type": "markdown",
   "metadata": {},
   "source": [
    "## Linear Regression"
   ]
  },
  {
   "cell_type": "code",
   "execution_count": 3,
   "metadata": {},
   "outputs": [],
   "source": [
    "def linear_regression(x, y, test_size=None, random_state=50):\n",
    "    from sklearn.linear_model import LinearRegression\n",
    "    from sklearn.model_selection import train_test_split\n",
    "    model = LinearRegression()\n",
    "    x_train, x_test, y_train, y_test = train_test_split(x, y, test_size = test_size, random_state=random_state)\n",
    "    model.fit(x_train, y_train)\n",
    "    print(f\"Model accuracy: {model.score(x_test, y_test)*100:.3f}%\")\n",
    "    return model"
   ]
  },
  {
   "cell_type": "code",
   "execution_count": 1,
   "metadata": {},
   "outputs": [],
   "source": [
    "def linear_regression_range(x, y, test_size=None, random_state=50):\n",
    "    from sklearn.linear_model import LinearRegression\n",
    "    from sklearn.model_selection import train_test_split\n",
    "    model = LinearRegression()\n",
    "    max_rand_state = 0\n",
    "    max_score = 0\n",
    "    for rand_state in range(random_state-50, random_state+50):\n",
    "        x_train, x_test, y_train, y_test = train_test_split(x, y, test_size = test_size, random_state=rand_state)\n",
    "        model.fit(x_train, y_train)\n",
    "        if model.score(x_test, y_test) > max_score:\n",
    "            max_rand_state = rand_state\n",
    "            max_score = model.score(x_test, y_test)\n",
    "    x_train, x_test, y_train, y_test = train_test_split(x, y, test_size = test_size, random_state=max_rand_state)\n",
    "    model.fit(x_train, y_train)\n",
    "    print(f\"Model Accuracy: {model.score(x_test, y_test)*100:.3f}%\")\n",
    "    print(f\"Random state set : {max_rand_state}\")\n",
    "    return model, x_test, y_test"
   ]
  },
  {
   "cell_type": "markdown",
   "metadata": {},
   "source": [
    "## Multi Linear Regression"
   ]
  },
  {
   "cell_type": "code",
   "execution_count": 1,
   "metadata": {},
   "outputs": [],
   "source": [
    "def multilinear_regression_range(x, y, test_size=None, random_state=50):\n",
    "    from sklearn.linear_model import LinearRegression\n",
    "    from sklearn.model_selection import train_test_split\n",
    "    model = LinearRegression()\n",
    "    max_rand_state = 0\n",
    "    max_score = 0\n",
    "    for rand_state in range(random_state-50, random_state+50):\n",
    "        x_train, x_test, y_train, y_test = train_test_split(x, y, test_size = test_size, random_state=rand_state)\n",
    "        model.fit(x_train, y_train)\n",
    "        if model.score(x_test, y_test) > max_score:\n",
    "            max_rand_state = rand_state\n",
    "            max_score = model.score(x_test, y_test)\n",
    "    x_train, x_test, y_train, y_test = train_test_split(x, y, test_size = test_size, random_state=max_rand_state)\n",
    "    model.fit(x_train, y_train)\n",
    "    print(f\"Model Accuracy: {model.score(x_test, y_test)*100:.3f}%\")\n",
    "    print(f\"Random state set : {max_rand_state}\")\n",
    "    return model, x_test, y_test"
   ]
  },
  {
   "cell_type": "code",
   "execution_count": null,
   "metadata": {},
   "outputs": [],
   "source": []
  }
 ],
 "metadata": {
  "kernelspec": {
   "display_name": "Python 3",
   "language": "python",
   "name": "python3"
  },
  "language_info": {
   "codemirror_mode": {
    "name": "ipython",
    "version": 3
   },
   "file_extension": ".py",
   "mimetype": "text/x-python",
   "name": "python",
   "nbconvert_exporter": "python",
   "pygments_lexer": "ipython3",
   "version": "3.11.9"
  }
 },
 "nbformat": 4,
 "nbformat_minor": 2
}
